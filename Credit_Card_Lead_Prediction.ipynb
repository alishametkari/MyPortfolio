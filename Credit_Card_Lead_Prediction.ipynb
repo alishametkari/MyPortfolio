{
  "nbformat": 4,
  "nbformat_minor": 5,
  "metadata": {
    "kernelspec": {
      "display_name": "Python 3",
      "language": "python",
      "name": "python3"
    },
    "language_info": {
      "codemirror_mode": {
        "name": "ipython",
        "version": 3
      },
      "file_extension": ".py",
      "mimetype": "text/x-python",
      "name": "python",
      "nbconvert_exporter": "python",
      "pygments_lexer": "ipython3",
      "version": "3.7.6"
    },
    "colab": {
      "name": "Credit Card Lead Prediction.ipynb",
      "provenance": [],
      "collapsed_sections": []
    }
  },
  "cells": [
    {
      "cell_type": "markdown",
      "metadata": {
        "id": "f5e31154"
      },
      "source": [
        "# Job-A-Thon Hackathon - Credit Card Lead Prediction"
      ],
      "id": "f5e31154"
    },
    {
      "cell_type": "markdown",
      "metadata": {
        "id": "6284e6ee"
      },
      "source": [
        "# Problem Statement :\n",
        "Happy Customer Bank is a mid-sized private bank that deals in all kinds of banking products, like Savings accounts, Current accounts, investment products, credit products, among other offerings. The bank also cross-sells products to its existing customers and to do so they use different kinds of communication like tele-calling, e-mails, recommendations on net banking, mobile banking, etc. In this case, the Happy Customer Bank wants to cross sell its credit cards to its existing customers. The bank has identified a set of customers that are eligible for taking these credit cards.\n",
        "Now, the bank is looking for your help in identifying customers that could show higher intent towards a recommended credit card, given:\n",
        "Customer details (gender, age, region etc.)\n",
        "Details of his/her relationship with the bank (Channel_Code,Vintage, 'Avg_Asset_Value etc.)"
      ],
      "id": "6284e6ee"
    },
    {
      "cell_type": "markdown",
      "metadata": {
        "id": "f43b91b8"
      },
      "source": [
        "# Approach : "
      ],
      "id": "f43b91b8"
    },
    {
      "cell_type": "code",
      "metadata": {
        "id": "c3f193cf"
      },
      "source": [
        "import numpy as np\n",
        "import pandas as pd\n",
        "import matplotlib.pyplot as plt\n",
        "import seaborn as sns\n",
        "%matplotlib inline\n",
        "import warnings\n",
        "warnings.filterwarnings('ignore')\n",
        "from sklearn.preprocessing import LabelEncoder, MinMaxScaler\n",
        "from sklearn.linear_model import LogisticRegression\n",
        "from sklearn.ensemble import RandomForestClassifier\n",
        "from sklearn.model_selection import GridSearchCV\n",
        "from sklearn.metrics import roc_auc_score, classification_report, roc_curve, confusion_matrix\n",
        "from imblearn.over_sampling import SMOTE\n",
        "from scipy.stats.mstats import winsorize\n",
        "from sklearn.feature_selection import RFE\n",
        "from sklearn.model_selection import train_test_split"
      ],
      "id": "c3f193cf",
      "execution_count": null,
      "outputs": []
    },
    {
      "cell_type": "code",
      "metadata": {
        "colab": {
          "base_uri": "https://localhost:8080/"
        },
        "id": "88414b59",
        "outputId": "b728c355-0628-47b5-bb4a-f13339c92313"
      },
      "source": [
        "from google.colab import drive\n",
        "drive.mount(\"/content/drive\")\n"
      ],
      "id": "88414b59",
      "execution_count": null,
      "outputs": [
        {
          "output_type": "stream",
          "text": [
            "Mounted at /content/drive\n"
          ],
          "name": "stdout"
        }
      ]
    },
    {
      "cell_type": "code",
      "metadata": {
        "colab": {
          "base_uri": "https://localhost:8080/",
          "height": 424
        },
        "id": "QZmIyRAYYRHH",
        "outputId": "eed81ca6-c1e6-44ab-b36d-86182eae6cc0"
      },
      "source": [
        "df_train = pd.read_csv(\"/content/drive/My Drive/Data/train_data.csv\")\n",
        "df_train"
      ],
      "id": "QZmIyRAYYRHH",
      "execution_count": null,
      "outputs": [
        {
          "output_type": "execute_result",
          "data": {
            "text/html": [
              "<div>\n",
              "<style scoped>\n",
              "    .dataframe tbody tr th:only-of-type {\n",
              "        vertical-align: middle;\n",
              "    }\n",
              "\n",
              "    .dataframe tbody tr th {\n",
              "        vertical-align: top;\n",
              "    }\n",
              "\n",
              "    .dataframe thead th {\n",
              "        text-align: right;\n",
              "    }\n",
              "</style>\n",
              "<table border=\"1\" class=\"dataframe\">\n",
              "  <thead>\n",
              "    <tr style=\"text-align: right;\">\n",
              "      <th></th>\n",
              "      <th>ID</th>\n",
              "      <th>Gender</th>\n",
              "      <th>Age</th>\n",
              "      <th>Region_Code</th>\n",
              "      <th>Occupation</th>\n",
              "      <th>Channel_Code</th>\n",
              "      <th>Vintage</th>\n",
              "      <th>Credit_Product</th>\n",
              "      <th>Avg_Account_Balance</th>\n",
              "      <th>Is_Active</th>\n",
              "      <th>Is_Lead</th>\n",
              "    </tr>\n",
              "  </thead>\n",
              "  <tbody>\n",
              "    <tr>\n",
              "      <th>0</th>\n",
              "      <td>NNVBBKZB</td>\n",
              "      <td>Female</td>\n",
              "      <td>73</td>\n",
              "      <td>RG268</td>\n",
              "      <td>Other</td>\n",
              "      <td>X3</td>\n",
              "      <td>43</td>\n",
              "      <td>No</td>\n",
              "      <td>1045696</td>\n",
              "      <td>No</td>\n",
              "      <td>0</td>\n",
              "    </tr>\n",
              "    <tr>\n",
              "      <th>1</th>\n",
              "      <td>IDD62UNG</td>\n",
              "      <td>Female</td>\n",
              "      <td>30</td>\n",
              "      <td>RG277</td>\n",
              "      <td>Salaried</td>\n",
              "      <td>X1</td>\n",
              "      <td>32</td>\n",
              "      <td>No</td>\n",
              "      <td>581988</td>\n",
              "      <td>No</td>\n",
              "      <td>0</td>\n",
              "    </tr>\n",
              "    <tr>\n",
              "      <th>2</th>\n",
              "      <td>HD3DSEMC</td>\n",
              "      <td>Female</td>\n",
              "      <td>56</td>\n",
              "      <td>RG268</td>\n",
              "      <td>Self_Employed</td>\n",
              "      <td>X3</td>\n",
              "      <td>26</td>\n",
              "      <td>No</td>\n",
              "      <td>1484315</td>\n",
              "      <td>Yes</td>\n",
              "      <td>0</td>\n",
              "    </tr>\n",
              "    <tr>\n",
              "      <th>3</th>\n",
              "      <td>BF3NC7KV</td>\n",
              "      <td>Male</td>\n",
              "      <td>34</td>\n",
              "      <td>RG270</td>\n",
              "      <td>Salaried</td>\n",
              "      <td>X1</td>\n",
              "      <td>19</td>\n",
              "      <td>No</td>\n",
              "      <td>470454</td>\n",
              "      <td>No</td>\n",
              "      <td>0</td>\n",
              "    </tr>\n",
              "    <tr>\n",
              "      <th>4</th>\n",
              "      <td>TEASRWXV</td>\n",
              "      <td>Female</td>\n",
              "      <td>30</td>\n",
              "      <td>RG282</td>\n",
              "      <td>Salaried</td>\n",
              "      <td>X1</td>\n",
              "      <td>33</td>\n",
              "      <td>No</td>\n",
              "      <td>886787</td>\n",
              "      <td>No</td>\n",
              "      <td>0</td>\n",
              "    </tr>\n",
              "    <tr>\n",
              "      <th>...</th>\n",
              "      <td>...</td>\n",
              "      <td>...</td>\n",
              "      <td>...</td>\n",
              "      <td>...</td>\n",
              "      <td>...</td>\n",
              "      <td>...</td>\n",
              "      <td>...</td>\n",
              "      <td>...</td>\n",
              "      <td>...</td>\n",
              "      <td>...</td>\n",
              "      <td>...</td>\n",
              "    </tr>\n",
              "    <tr>\n",
              "      <th>245720</th>\n",
              "      <td>BPAWWXZN</td>\n",
              "      <td>Male</td>\n",
              "      <td>51</td>\n",
              "      <td>RG284</td>\n",
              "      <td>Self_Employed</td>\n",
              "      <td>X3</td>\n",
              "      <td>109</td>\n",
              "      <td>NaN</td>\n",
              "      <td>1925586</td>\n",
              "      <td>No</td>\n",
              "      <td>0</td>\n",
              "    </tr>\n",
              "    <tr>\n",
              "      <th>245721</th>\n",
              "      <td>HFNB7JY8</td>\n",
              "      <td>Male</td>\n",
              "      <td>27</td>\n",
              "      <td>RG268</td>\n",
              "      <td>Salaried</td>\n",
              "      <td>X1</td>\n",
              "      <td>15</td>\n",
              "      <td>No</td>\n",
              "      <td>862952</td>\n",
              "      <td>Yes</td>\n",
              "      <td>0</td>\n",
              "    </tr>\n",
              "    <tr>\n",
              "      <th>245722</th>\n",
              "      <td>GEHAUCWT</td>\n",
              "      <td>Female</td>\n",
              "      <td>26</td>\n",
              "      <td>RG281</td>\n",
              "      <td>Salaried</td>\n",
              "      <td>X1</td>\n",
              "      <td>13</td>\n",
              "      <td>No</td>\n",
              "      <td>670659</td>\n",
              "      <td>No</td>\n",
              "      <td>0</td>\n",
              "    </tr>\n",
              "    <tr>\n",
              "      <th>245723</th>\n",
              "      <td>GE7V8SAH</td>\n",
              "      <td>Female</td>\n",
              "      <td>28</td>\n",
              "      <td>RG273</td>\n",
              "      <td>Salaried</td>\n",
              "      <td>X1</td>\n",
              "      <td>31</td>\n",
              "      <td>No</td>\n",
              "      <td>407504</td>\n",
              "      <td>No</td>\n",
              "      <td>0</td>\n",
              "    </tr>\n",
              "    <tr>\n",
              "      <th>245724</th>\n",
              "      <td>BOCZSWLJ</td>\n",
              "      <td>Male</td>\n",
              "      <td>29</td>\n",
              "      <td>RG269</td>\n",
              "      <td>Salaried</td>\n",
              "      <td>X1</td>\n",
              "      <td>21</td>\n",
              "      <td>No</td>\n",
              "      <td>1129276</td>\n",
              "      <td>No</td>\n",
              "      <td>0</td>\n",
              "    </tr>\n",
              "  </tbody>\n",
              "</table>\n",
              "<p>245725 rows × 11 columns</p>\n",
              "</div>"
            ],
            "text/plain": [
              "              ID  Gender  Age  ... Avg_Account_Balance Is_Active Is_Lead\n",
              "0       NNVBBKZB  Female   73  ...             1045696        No       0\n",
              "1       IDD62UNG  Female   30  ...              581988        No       0\n",
              "2       HD3DSEMC  Female   56  ...             1484315       Yes       0\n",
              "3       BF3NC7KV    Male   34  ...              470454        No       0\n",
              "4       TEASRWXV  Female   30  ...              886787        No       0\n",
              "...          ...     ...  ...  ...                 ...       ...     ...\n",
              "245720  BPAWWXZN    Male   51  ...             1925586        No       0\n",
              "245721  HFNB7JY8    Male   27  ...              862952       Yes       0\n",
              "245722  GEHAUCWT  Female   26  ...              670659        No       0\n",
              "245723  GE7V8SAH  Female   28  ...              407504        No       0\n",
              "245724  BOCZSWLJ    Male   29  ...             1129276        No       0\n",
              "\n",
              "[245725 rows x 11 columns]"
            ]
          },
          "metadata": {
            "tags": []
          },
          "execution_count": 3
        }
      ]
    },
    {
      "cell_type": "markdown",
      "metadata": {
        "id": "3c71cce6"
      },
      "source": [
        "## Data Preprocessing :"
      ],
      "id": "3c71cce6"
    },
    {
      "cell_type": "code",
      "metadata": {
        "colab": {
          "base_uri": "https://localhost:8080/"
        },
        "id": "82b70353",
        "outputId": "38b266ff-b6c8-4efa-85d5-3f51412f49bf"
      },
      "source": [
        "df_train.info()"
      ],
      "id": "82b70353",
      "execution_count": null,
      "outputs": [
        {
          "output_type": "stream",
          "text": [
            "<class 'pandas.core.frame.DataFrame'>\n",
            "RangeIndex: 245725 entries, 0 to 245724\n",
            "Data columns (total 11 columns):\n",
            " #   Column               Non-Null Count   Dtype \n",
            "---  ------               --------------   ----- \n",
            " 0   ID                   245725 non-null  object\n",
            " 1   Gender               245725 non-null  object\n",
            " 2   Age                  245725 non-null  int64 \n",
            " 3   Region_Code          245725 non-null  object\n",
            " 4   Occupation           245725 non-null  object\n",
            " 5   Channel_Code         245725 non-null  object\n",
            " 6   Vintage              245725 non-null  int64 \n",
            " 7   Credit_Product       216400 non-null  object\n",
            " 8   Avg_Account_Balance  245725 non-null  int64 \n",
            " 9   Is_Active            245725 non-null  object\n",
            " 10  Is_Lead              245725 non-null  int64 \n",
            "dtypes: int64(4), object(7)\n",
            "memory usage: 20.6+ MB\n"
          ],
          "name": "stdout"
        }
      ]
    },
    {
      "cell_type": "markdown",
      "metadata": {
        "id": "wnaZ9lqz4IYk"
      },
      "source": [
        "### Checking null values :"
      ],
      "id": "wnaZ9lqz4IYk"
    },
    {
      "cell_type": "code",
      "metadata": {
        "colab": {
          "base_uri": "https://localhost:8080/"
        },
        "id": "eb684287",
        "outputId": "039ff324-08ad-47b1-94b2-4428082c4487"
      },
      "source": [
        "df_train.isnull().sum()"
      ],
      "id": "eb684287",
      "execution_count": null,
      "outputs": [
        {
          "output_type": "execute_result",
          "data": {
            "text/plain": [
              "ID                         0\n",
              "Gender                     0\n",
              "Age                        0\n",
              "Region_Code                0\n",
              "Occupation                 0\n",
              "Channel_Code               0\n",
              "Vintage                    0\n",
              "Credit_Product         29325\n",
              "Avg_Account_Balance        0\n",
              "Is_Active                  0\n",
              "Is_Lead                    0\n",
              "dtype: int64"
            ]
          },
          "metadata": {
            "tags": []
          },
          "execution_count": 5
        }
      ]
    },
    {
      "cell_type": "code",
      "metadata": {
        "colab": {
          "base_uri": "https://localhost:8080/"
        },
        "id": "bc5ffca0",
        "outputId": "580f0ab7-0efb-4acb-e1f9-2233ed856124"
      },
      "source": [
        "# Percent of null values present in attribute credit_product\n",
        "perc_null_creditProduct = ( df_train['Credit_Product'].isnull().sum() / df_train.size ) * 100\n",
        "perc_null_creditProduct"
      ],
      "id": "bc5ffca0",
      "execution_count": null,
      "outputs": [
        {
          "output_type": "execute_result",
          "data": {
            "text/plain": [
              "1.0849156947437546"
            ]
          },
          "metadata": {
            "tags": []
          },
          "execution_count": 6
        }
      ]
    },
    {
      "cell_type": "markdown",
      "metadata": {
        "id": "36f2717c"
      },
      "source": [
        "Only 1% of the data contains null value for attribute Credit_Product. This attribute is important in the prediction of target, so replacing null value with majority category of that feature that is 'No'."
      ],
      "id": "36f2717c"
    },
    {
      "cell_type": "code",
      "metadata": {
        "id": "7c4aad54"
      },
      "source": [
        "#dropin rows with null values\n",
        "df_train.fillna('No', inplace = True)"
      ],
      "id": "7c4aad54",
      "execution_count": null,
      "outputs": []
    },
    {
      "cell_type": "code",
      "metadata": {
        "colab": {
          "base_uri": "https://localhost:8080/"
        },
        "id": "575b0e25",
        "outputId": "e5270fc1-5ecd-426a-c431-cbed875b0eba"
      },
      "source": [
        "df_train.isnull().sum()       #Rechecking null values"
      ],
      "id": "575b0e25",
      "execution_count": null,
      "outputs": [
        {
          "output_type": "execute_result",
          "data": {
            "text/plain": [
              "ID                     0\n",
              "Gender                 0\n",
              "Age                    0\n",
              "Region_Code            0\n",
              "Occupation             0\n",
              "Channel_Code           0\n",
              "Vintage                0\n",
              "Credit_Product         0\n",
              "Avg_Account_Balance    0\n",
              "Is_Active              0\n",
              "Is_Lead                0\n",
              "dtype: int64"
            ]
          },
          "metadata": {
            "tags": []
          },
          "execution_count": 8
        }
      ]
    },
    {
      "cell_type": "markdown",
      "metadata": {
        "id": "ba067b3d"
      },
      "source": [
        "Now no null value is present."
      ],
      "id": "ba067b3d"
    },
    {
      "cell_type": "code",
      "metadata": {
        "colab": {
          "base_uri": "https://localhost:8080/",
          "height": 394
        },
        "id": "3b040f53",
        "outputId": "a4c155ab-fa6d-47ce-f5f3-7fcfda67ec64"
      },
      "source": [
        "# descriptive statistics\n",
        "df_train.describe(include = 'all').round(decimals=2)"
      ],
      "id": "3b040f53",
      "execution_count": null,
      "outputs": [
        {
          "output_type": "execute_result",
          "data": {
            "text/html": [
              "<div>\n",
              "<style scoped>\n",
              "    .dataframe tbody tr th:only-of-type {\n",
              "        vertical-align: middle;\n",
              "    }\n",
              "\n",
              "    .dataframe tbody tr th {\n",
              "        vertical-align: top;\n",
              "    }\n",
              "\n",
              "    .dataframe thead th {\n",
              "        text-align: right;\n",
              "    }\n",
              "</style>\n",
              "<table border=\"1\" class=\"dataframe\">\n",
              "  <thead>\n",
              "    <tr style=\"text-align: right;\">\n",
              "      <th></th>\n",
              "      <th>ID</th>\n",
              "      <th>Gender</th>\n",
              "      <th>Age</th>\n",
              "      <th>Region_Code</th>\n",
              "      <th>Occupation</th>\n",
              "      <th>Channel_Code</th>\n",
              "      <th>Vintage</th>\n",
              "      <th>Credit_Product</th>\n",
              "      <th>Avg_Account_Balance</th>\n",
              "      <th>Is_Active</th>\n",
              "      <th>Is_Lead</th>\n",
              "    </tr>\n",
              "  </thead>\n",
              "  <tbody>\n",
              "    <tr>\n",
              "      <th>count</th>\n",
              "      <td>245725</td>\n",
              "      <td>245725</td>\n",
              "      <td>245725.00</td>\n",
              "      <td>245725</td>\n",
              "      <td>245725</td>\n",
              "      <td>245725</td>\n",
              "      <td>245725.00</td>\n",
              "      <td>245725</td>\n",
              "      <td>245725.00</td>\n",
              "      <td>245725</td>\n",
              "      <td>245725.00</td>\n",
              "    </tr>\n",
              "    <tr>\n",
              "      <th>unique</th>\n",
              "      <td>245725</td>\n",
              "      <td>2</td>\n",
              "      <td>NaN</td>\n",
              "      <td>35</td>\n",
              "      <td>4</td>\n",
              "      <td>4</td>\n",
              "      <td>NaN</td>\n",
              "      <td>2</td>\n",
              "      <td>NaN</td>\n",
              "      <td>2</td>\n",
              "      <td>NaN</td>\n",
              "    </tr>\n",
              "    <tr>\n",
              "      <th>top</th>\n",
              "      <td>CVDX7B6G</td>\n",
              "      <td>Male</td>\n",
              "      <td>NaN</td>\n",
              "      <td>RG268</td>\n",
              "      <td>Self_Employed</td>\n",
              "      <td>X1</td>\n",
              "      <td>NaN</td>\n",
              "      <td>No</td>\n",
              "      <td>NaN</td>\n",
              "      <td>No</td>\n",
              "      <td>NaN</td>\n",
              "    </tr>\n",
              "    <tr>\n",
              "      <th>freq</th>\n",
              "      <td>1</td>\n",
              "      <td>134197</td>\n",
              "      <td>NaN</td>\n",
              "      <td>35934</td>\n",
              "      <td>100886</td>\n",
              "      <td>103718</td>\n",
              "      <td>NaN</td>\n",
              "      <td>173682</td>\n",
              "      <td>NaN</td>\n",
              "      <td>150290</td>\n",
              "      <td>NaN</td>\n",
              "    </tr>\n",
              "    <tr>\n",
              "      <th>mean</th>\n",
              "      <td>NaN</td>\n",
              "      <td>NaN</td>\n",
              "      <td>43.86</td>\n",
              "      <td>NaN</td>\n",
              "      <td>NaN</td>\n",
              "      <td>NaN</td>\n",
              "      <td>46.96</td>\n",
              "      <td>NaN</td>\n",
              "      <td>1128403.10</td>\n",
              "      <td>NaN</td>\n",
              "      <td>0.24</td>\n",
              "    </tr>\n",
              "    <tr>\n",
              "      <th>std</th>\n",
              "      <td>NaN</td>\n",
              "      <td>NaN</td>\n",
              "      <td>14.83</td>\n",
              "      <td>NaN</td>\n",
              "      <td>NaN</td>\n",
              "      <td>NaN</td>\n",
              "      <td>32.35</td>\n",
              "      <td>NaN</td>\n",
              "      <td>852936.36</td>\n",
              "      <td>NaN</td>\n",
              "      <td>0.43</td>\n",
              "    </tr>\n",
              "    <tr>\n",
              "      <th>min</th>\n",
              "      <td>NaN</td>\n",
              "      <td>NaN</td>\n",
              "      <td>23.00</td>\n",
              "      <td>NaN</td>\n",
              "      <td>NaN</td>\n",
              "      <td>NaN</td>\n",
              "      <td>7.00</td>\n",
              "      <td>NaN</td>\n",
              "      <td>20790.00</td>\n",
              "      <td>NaN</td>\n",
              "      <td>0.00</td>\n",
              "    </tr>\n",
              "    <tr>\n",
              "      <th>25%</th>\n",
              "      <td>NaN</td>\n",
              "      <td>NaN</td>\n",
              "      <td>30.00</td>\n",
              "      <td>NaN</td>\n",
              "      <td>NaN</td>\n",
              "      <td>NaN</td>\n",
              "      <td>20.00</td>\n",
              "      <td>NaN</td>\n",
              "      <td>604310.00</td>\n",
              "      <td>NaN</td>\n",
              "      <td>0.00</td>\n",
              "    </tr>\n",
              "    <tr>\n",
              "      <th>50%</th>\n",
              "      <td>NaN</td>\n",
              "      <td>NaN</td>\n",
              "      <td>43.00</td>\n",
              "      <td>NaN</td>\n",
              "      <td>NaN</td>\n",
              "      <td>NaN</td>\n",
              "      <td>32.00</td>\n",
              "      <td>NaN</td>\n",
              "      <td>894601.00</td>\n",
              "      <td>NaN</td>\n",
              "      <td>0.00</td>\n",
              "    </tr>\n",
              "    <tr>\n",
              "      <th>75%</th>\n",
              "      <td>NaN</td>\n",
              "      <td>NaN</td>\n",
              "      <td>54.00</td>\n",
              "      <td>NaN</td>\n",
              "      <td>NaN</td>\n",
              "      <td>NaN</td>\n",
              "      <td>73.00</td>\n",
              "      <td>NaN</td>\n",
              "      <td>1366666.00</td>\n",
              "      <td>NaN</td>\n",
              "      <td>0.00</td>\n",
              "    </tr>\n",
              "    <tr>\n",
              "      <th>max</th>\n",
              "      <td>NaN</td>\n",
              "      <td>NaN</td>\n",
              "      <td>85.00</td>\n",
              "      <td>NaN</td>\n",
              "      <td>NaN</td>\n",
              "      <td>NaN</td>\n",
              "      <td>135.00</td>\n",
              "      <td>NaN</td>\n",
              "      <td>10352009.00</td>\n",
              "      <td>NaN</td>\n",
              "      <td>1.00</td>\n",
              "    </tr>\n",
              "  </tbody>\n",
              "</table>\n",
              "</div>"
            ],
            "text/plain": [
              "              ID  Gender        Age  ... Avg_Account_Balance Is_Active    Is_Lead\n",
              "count     245725  245725  245725.00  ...           245725.00    245725  245725.00\n",
              "unique    245725       2        NaN  ...                 NaN         2        NaN\n",
              "top     CVDX7B6G    Male        NaN  ...                 NaN        No        NaN\n",
              "freq           1  134197        NaN  ...                 NaN    150290        NaN\n",
              "mean         NaN     NaN      43.86  ...          1128403.10       NaN       0.24\n",
              "std          NaN     NaN      14.83  ...           852936.36       NaN       0.43\n",
              "min          NaN     NaN      23.00  ...            20790.00       NaN       0.00\n",
              "25%          NaN     NaN      30.00  ...           604310.00       NaN       0.00\n",
              "50%          NaN     NaN      43.00  ...           894601.00       NaN       0.00\n",
              "75%          NaN     NaN      54.00  ...          1366666.00       NaN       0.00\n",
              "max          NaN     NaN      85.00  ...         10352009.00       NaN       1.00\n",
              "\n",
              "[11 rows x 11 columns]"
            ]
          },
          "metadata": {
            "tags": []
          },
          "execution_count": 9
        }
      ]
    },
    {
      "cell_type": "markdown",
      "metadata": {
        "id": "49b0917e"
      },
      "source": [
        "### Checking the class imbalance:"
      ],
      "id": "49b0917e"
    },
    {
      "cell_type": "code",
      "metadata": {
        "colab": {
          "base_uri": "https://localhost:8080/"
        },
        "id": "e9fb07bd",
        "outputId": "5dc73d2f-4671-4740-d242-fb8eeb36c527"
      },
      "source": [
        "# checking class imbalance\n",
        "def class_imbalance(target):\n",
        "    class_values = (target.value_counts()/target.value_counts().sum())*100\n",
        "    return class_values\n",
        "\n",
        "class_imbalance(df_train['Is_Lead'])"
      ],
      "id": "e9fb07bd",
      "execution_count": null,
      "outputs": [
        {
          "output_type": "execute_result",
          "data": {
            "text/plain": [
              "0    76.279174\n",
              "1    23.720826\n",
              "Name: Is_Lead, dtype: float64"
            ]
          },
          "metadata": {
            "tags": []
          },
          "execution_count": 10
        }
      ]
    },
    {
      "cell_type": "markdown",
      "metadata": {
        "id": "7589761f"
      },
      "source": [
        "This indicates imbalance in class"
      ],
      "id": "7589761f"
    },
    {
      "cell_type": "markdown",
      "metadata": {
        "id": "fbfda508"
      },
      "source": [
        "### Checking outliers :"
      ],
      "id": "fbfda508"
    },
    {
      "cell_type": "code",
      "metadata": {
        "colab": {
          "base_uri": "https://localhost:8080/",
          "height": 143
        },
        "id": "2ebeae4c",
        "outputId": "df405ab4-8b61-43ce-d440-d866ff3da974"
      },
      "source": [
        "#function to detect outliers using IQR method\n",
        "def detect_outliers(dataframe):\n",
        "    cols = list(dataframe)\n",
        "    outliers = pd.DataFrame(columns = ['Feature', 'Number of Outliers'])\n",
        "    for column in cols:\n",
        "        if column in dataframe.select_dtypes(include=np.number).columns[:-1]:\n",
        "            q1 = dataframe[column].quantile(0.25)\n",
        "            q3 = dataframe[column].quantile(0.75)\n",
        "            iqr = q3 - q1\n",
        "            fence_low = q1 - (1.5*iqr)\n",
        "            fence_high = q3 + (1.5*iqr)\n",
        "            outliers = outliers.append({'Feature':column, 'Number of Outliers':dataframe.loc[(dataframe[column] < fence_low) | (dataframe[column] > fence_high)].shape[0]},ignore_index=True)\n",
        "    return outliers\n",
        "\n",
        "detect_outliers(df_train)"
      ],
      "id": "2ebeae4c",
      "execution_count": null,
      "outputs": [
        {
          "output_type": "execute_result",
          "data": {
            "text/html": [
              "<div>\n",
              "<style scoped>\n",
              "    .dataframe tbody tr th:only-of-type {\n",
              "        vertical-align: middle;\n",
              "    }\n",
              "\n",
              "    .dataframe tbody tr th {\n",
              "        vertical-align: top;\n",
              "    }\n",
              "\n",
              "    .dataframe thead th {\n",
              "        text-align: right;\n",
              "    }\n",
              "</style>\n",
              "<table border=\"1\" class=\"dataframe\">\n",
              "  <thead>\n",
              "    <tr style=\"text-align: right;\">\n",
              "      <th></th>\n",
              "      <th>Feature</th>\n",
              "      <th>Number of Outliers</th>\n",
              "    </tr>\n",
              "  </thead>\n",
              "  <tbody>\n",
              "    <tr>\n",
              "      <th>0</th>\n",
              "      <td>Age</td>\n",
              "      <td>0</td>\n",
              "    </tr>\n",
              "    <tr>\n",
              "      <th>1</th>\n",
              "      <td>Vintage</td>\n",
              "      <td>0</td>\n",
              "    </tr>\n",
              "    <tr>\n",
              "      <th>2</th>\n",
              "      <td>Avg_Account_Balance</td>\n",
              "      <td>14612</td>\n",
              "    </tr>\n",
              "  </tbody>\n",
              "</table>\n",
              "</div>"
            ],
            "text/plain": [
              "               Feature Number of Outliers\n",
              "0                  Age                  0\n",
              "1              Vintage                  0\n",
              "2  Avg_Account_Balance              14612"
            ]
          },
          "metadata": {
            "tags": []
          },
          "execution_count": 11
        }
      ]
    },
    {
      "cell_type": "markdown",
      "metadata": {
        "id": "ntAinPP5Lwor"
      },
      "source": [
        "There are outliers present in Avg_Account_Balance."
      ],
      "id": "ntAinPP5Lwor"
    },
    {
      "cell_type": "markdown",
      "metadata": {
        "id": "93896fa6"
      },
      "source": [
        "### Univariate analysis of categorical column : "
      ],
      "id": "93896fa6"
    },
    {
      "cell_type": "code",
      "metadata": {
        "colab": {
          "base_uri": "https://localhost:8080/",
          "height": 857
        },
        "id": "c102361c",
        "outputId": "7172705c-98f2-4983-98e7-a3463cf6fd9a"
      },
      "source": [
        "# Function to perform univariate analysis of categorical columns\n",
        "def plot_categorical_columns(dataframe):\n",
        "    categorical_columns = dataframe.select_dtypes(include=['object']).columns[1:]\n",
        "    \n",
        "    for i in range(0,len(categorical_columns),2):\n",
        "            if len(categorical_columns) > i+1:\n",
        "                \n",
        "                plt.figure(figsize=(10,4))\n",
        "                plt.subplot(121)\n",
        "                dataframe[categorical_columns[i]].value_counts(normalize=True).plot(kind='bar')\n",
        "                plt.title(categorical_columns[i])\n",
        "                plt.subplot(122)     \n",
        "                dataframe[categorical_columns[i+1]].value_counts(normalize=True).plot(kind='bar')\n",
        "                plt.title(categorical_columns[i+1])\n",
        "                plt.tight_layout()\n",
        "                plt.show()\n",
        "\n",
        "            else:\n",
        "                dataframe[categorical_columns[i]].value_counts(normalize=True).plot(kind='bar')\n",
        "                plt.title(categorical_columns[i])\n",
        "        \n",
        "        \n",
        "plot = plot_categorical_columns(df_train)      "
      ],
      "id": "c102361c",
      "execution_count": null,
      "outputs": [
        {
          "output_type": "display_data",
          "data": {
            "image/png": "[encoded data removed]",
            "text/plain": [
              "<Figure size 720x288 with 2 Axes>"
            ]
          },
          "metadata": {
            "tags": [],
            "needs_background": "light"
          }
        },
        {
          "output_type": "display_data",
          "data": {
            "image/png": "[encoded data removed]",
            "text/plain": [
              "<Figure size 720x288 with 2 Axes>"
            ]
          },
          "metadata": {
            "tags": [],
            "needs_background": "light"
          }
        },
        {
          "output_type": "display_data",
          "data": {
            "image/png": "[encoded data removed]",
            "text/plain": [
              "<Figure size 720x288 with 2 Axes>"
            ]
          },
          "metadata": {
            "tags": [],
            "needs_background": "light"
          }
        }
      ]
    },
    {
      "cell_type": "markdown",
      "metadata": {
        "id": "ck_ut1yAkl0_"
      },
      "source": [
        "Most of the customers are self employed. Most of the customers have no active credit product from bank. Most of the customers don't have active accounts since 3 months. Most of the customers are male."
      ],
      "id": "ck_ut1yAkl0_"
    },
    {
      "cell_type": "markdown",
      "metadata": {
        "id": "wftMQC5-k97T"
      },
      "source": [
        "### Univariate Analysis of Continuous Column :"
      ],
      "id": "wftMQC5-k97T"
    },
    {
      "cell_type": "code",
      "metadata": {
        "colab": {
          "base_uri": "https://localhost:8080/",
          "height": 1000
        },
        "id": "I8qqq_TAkueo",
        "outputId": "d0295af4-a742-4223-8c1e-900832ffcabd"
      },
      "source": [
        "# Function to plot histograms\n",
        "def plot_continuous_columns(dataframe):\n",
        "    numeric_columns = dataframe.select_dtypes(include=['number']).columns.tolist()\n",
        "    dataframe = dataframe[numeric_columns]\n",
        "    \n",
        "    for i in range(0,len(numeric_columns),2):\n",
        "        if len(numeric_columns) > i+1:\n",
        "            plt.figure(figsize=(10,4))\n",
        "            plt.subplot(121)\n",
        "            sns.distplot(dataframe[numeric_columns[i]], kde=False)\n",
        "            plt.subplot(122)            \n",
        "            sns.distplot(dataframe[numeric_columns[i+1]], kde=False)\n",
        "            plt.tight_layout()\n",
        "            plt.show()\n",
        "\n",
        "        else:\n",
        "            sns.distplot(dataframe[numeric_columns[i]], kde=False)\n",
        "\n",
        "# Function to plot boxplots\n",
        "def plot_box_plots(dataframe):\n",
        "    numeric_columns = dataframe.select_dtypes(include=['number']).columns.tolist()\n",
        "    dataframe = dataframe[numeric_columns]\n",
        "    \n",
        "    for i in range(0,len(numeric_columns),2):\n",
        "        if len(numeric_columns) > i+1:\n",
        "            plt.figure(figsize=(10,4))\n",
        "            plt.subplot(121)\n",
        "            sns.boxplot(dataframe[numeric_columns[i]])\n",
        "            plt.subplot(122)            \n",
        "            sns.boxplot(dataframe[numeric_columns[i+1]])\n",
        "            plt.tight_layout()\n",
        "            plt.show()\n",
        "\n",
        "        else:\n",
        "            sns.boxplot(dataframe[numeric_columns[i]])\n",
        "\n",
        "    \n",
        "    \n",
        "    \n",
        "plot_continuous_columns(df_train)            \n",
        "plot_box_plots(df_train)\n",
        "\n"
      ],
      "id": "I8qqq_TAkueo",
      "execution_count": null,
      "outputs": [
        {
          "output_type": "display_data",
          "data": {
            "image/png": "[encoded data removed]",
            "text/plain": [
              "<Figure size 720x288 with 2 Axes>"
            ]
          },
          "metadata": {
            "tags": [],
            "needs_background": "light"
          }
        },
        {
          "output_type": "display_data",
          "data": {
            "image/png": "[encoded data removed]",
            "text/plain": [
              "<Figure size 720x288 with 2 Axes>"
            ]
          },
          "metadata": {
            "tags": [],
            "needs_background": "light"
          }
        },
        {
          "output_type": "display_data",
          "data": {
            "image/png": "[encoded data removed]",
            "text/plain": [
              "<Figure size 720x288 with 2 Axes>"
            ]
          },
          "metadata": {
            "tags": [],
            "needs_background": "light"
          }
        },
        {
          "output_type": "display_data",
          "data": {
            "image/png": "[encoded data removed]",
            "text/plain": [
              "<Figure size 720x288 with 2 Axes>"
            ]
          },
          "metadata": {
            "tags": [],
            "needs_background": "light"
          }
        }
      ]
    },
    {
      "cell_type": "markdown",
      "metadata": {
        "id": "1B7lq3F1lx65"
      },
      "source": [
        "As we can see from histogram, the features Avg_Account_Balance is heavily skewed and this is due to the presence of outliers as seen in the boxplot for these feature."
      ],
      "id": "1B7lq3F1lx65"
    },
    {
      "cell_type": "markdown",
      "metadata": {
        "id": "aUCPcJnFmoIO"
      },
      "source": [
        "### Bivariate Analysis of Categorical column :"
      ],
      "id": "aUCPcJnFmoIO"
    },
    {
      "cell_type": "code",
      "metadata": {
        "colab": {
          "base_uri": "https://localhost:8080/",
          "height": 1000
        },
        "id": "SBcSROgPmgTg",
        "outputId": "c740ad45-2fe7-4289-98fc-6db8eb36f96b"
      },
      "source": [
        "def bivariate_analysis_categorical(dataframe,target):\n",
        "    categorical_columns = dataframe.select_dtypes(exclude=np.number).columns[1:]\n",
        "    for i in range(0,len(categorical_columns),2):\n",
        "        if len(categorical_columns) > i+1:\n",
        "            plt.figure(figsize=(15,5))\n",
        "            plt.subplot(121)\n",
        "            sns.countplot(x=dataframe[categorical_columns[i]],hue=target,data=dataframe)\n",
        "            plt.xticks(rotation=90)\n",
        "            plt.subplot(122)            \n",
        "            sns.countplot(dataframe[categorical_columns[i+1]],hue=target,data=dataframe)\n",
        "            plt.xticks(rotation=90)\n",
        "            plt.tight_layout()\n",
        "            plt.show()\n",
        "\n",
        "\n",
        "bivariate_analysis_categorical(df_train,df_train['Is_Lead'])"
      ],
      "id": "SBcSROgPmgTg",
      "execution_count": null,
      "outputs": [
        {
          "output_type": "display_data",
          "data": {
            "image/png": "[encoded data removed]",
            "text/plain": [
              "<Figure size 1080x360 with 2 Axes>"
            ]
          },
          "metadata": {
            "tags": [],
            "needs_background": "light"
          }
        },
        {
          "output_type": "display_data",
          "data": {
            "image/png": "[encoded data removed]",
            "text/plain": [
              "<Figure size 1080x360 with 2 Axes>"
            ]
          },
          "metadata": {
            "tags": [],
            "needs_background": "light"
          }
        },
        {
          "output_type": "display_data",
          "data": {
            "image/png": "[encoded data removed]",
            "text/plain": [
              "<Figure size 1080x360 with 2 Axes>"
            ]
          },
          "metadata": {
            "tags": [],
            "needs_background": "light"
          }
        }
      ]
    },
    {
      "cell_type": "markdown",
      "metadata": {
        "id": "ok5NiICR1YGw"
      },
      "source": [
        "### Treating outliers using winsorization"
      ],
      "id": "ok5NiICR1YGw"
    },
    {
      "cell_type": "code",
      "metadata": {
        "colab": {
          "base_uri": "https://localhost:8080/",
          "height": 143
        },
        "id": "K3W3cnZY06A_",
        "outputId": "37f8d6eb-cd54-4550-b6a4-ac0fc51e41e5"
      },
      "source": [
        "# Function to treat outliers \n",
        "def treat_outliers(dataframe):\n",
        "    cols = list(dataframe)\n",
        "    for col in cols:\n",
        "        if col in dataframe.select_dtypes(include=np.number).columns[:-1]:\n",
        "            dataframe[col] = winsorize(dataframe[col], limits=[0.05, 0.1],inclusive=(True, True))\n",
        "    \n",
        "    return dataframe    \n",
        "\n",
        "\n",
        "df_train = treat_outliers(df_train)\n",
        "\n",
        "# Checking for outliers after applying winsorization\n",
        "detect_outliers(df_train)"
      ],
      "id": "K3W3cnZY06A_",
      "execution_count": null,
      "outputs": [
        {
          "output_type": "execute_result",
          "data": {
            "text/html": [
              "<div>\n",
              "<style scoped>\n",
              "    .dataframe tbody tr th:only-of-type {\n",
              "        vertical-align: middle;\n",
              "    }\n",
              "\n",
              "    .dataframe tbody tr th {\n",
              "        vertical-align: top;\n",
              "    }\n",
              "\n",
              "    .dataframe thead th {\n",
              "        text-align: right;\n",
              "    }\n",
              "</style>\n",
              "<table border=\"1\" class=\"dataframe\">\n",
              "  <thead>\n",
              "    <tr style=\"text-align: right;\">\n",
              "      <th></th>\n",
              "      <th>Feature</th>\n",
              "      <th>Number of Outliers</th>\n",
              "    </tr>\n",
              "  </thead>\n",
              "  <tbody>\n",
              "    <tr>\n",
              "      <th>0</th>\n",
              "      <td>Age</td>\n",
              "      <td>0</td>\n",
              "    </tr>\n",
              "    <tr>\n",
              "      <th>1</th>\n",
              "      <td>Vintage</td>\n",
              "      <td>0</td>\n",
              "    </tr>\n",
              "    <tr>\n",
              "      <th>2</th>\n",
              "      <td>Avg_Account_Balance</td>\n",
              "      <td>0</td>\n",
              "    </tr>\n",
              "  </tbody>\n",
              "</table>\n",
              "</div>"
            ],
            "text/plain": [
              "               Feature Number of Outliers\n",
              "0                  Age                  0\n",
              "1              Vintage                  0\n",
              "2  Avg_Account_Balance                  0"
            ]
          },
          "metadata": {
            "tags": []
          },
          "execution_count": 15
        }
      ]
    },
    {
      "cell_type": "markdown",
      "metadata": {
        "id": "EdiClzKBOP0S"
      },
      "source": [
        "For simplicity I am removing region_code and Channel_code feature."
      ],
      "id": "EdiClzKBOP0S"
    },
    {
      "cell_type": "code",
      "metadata": {
        "id": "KdvZnnUzOjhv"
      },
      "source": [
        "#dropping unrequired columns to avoid overfitting\n",
        "df_train.drop(['Region_Code', 'Channel_Code'], axis = 1, inplace = True)"
      ],
      "id": "KdvZnnUzOjhv",
      "execution_count": null,
      "outputs": []
    },
    {
      "cell_type": "markdown",
      "metadata": {
        "id": "NLR7t3HOKjoK"
      },
      "source": [
        "Before moving further let's convert categorical data into numeric data since machine learning model works only with numeric values. I am using get_dummies for feature occupation and label encoder for features gender, credit_product, is_active."
      ],
      "id": "NLR7t3HOKjoK"
    },
    {
      "cell_type": "code",
      "metadata": {
        "colab": {
          "base_uri": "https://localhost:8080/",
          "height": 226
        },
        "id": "vjuQ9Jp1Q6jl",
        "outputId": "79261a29-a0d2-4d62-ee52-714f24d796ba"
      },
      "source": [
        "#Label Encoding\n",
        "label_col = ['Gender', 'Credit_Product', 'Is_Active']\n",
        "for col in label_col:\n",
        "  le = LabelEncoder()\n",
        "  df_train[col] = le.fit_transform(df_train[col])\n",
        "\n",
        "# create four dummy variables using get_dummies, then exclude the first dummy column\n",
        "dummies = pd.get_dummies(df_train['Occupation'], prefix='Occupation').iloc[:, 1:]\n",
        "\n",
        "# concatenate the dummy variable columns onto the original DataFrame (axis=0 means rows, axis=1 means columns)\n",
        "df_train = pd.concat([df_train, dummies], axis=1)\n",
        "df_train.drop(['Occupation'], axis = 1, inplace = True)\n",
        "\n",
        "df_train.head()"
      ],
      "id": "vjuQ9Jp1Q6jl",
      "execution_count": null,
      "outputs": [
        {
          "output_type": "execute_result",
          "data": {
            "text/html": [
              "<div>\n",
              "<style scoped>\n",
              "    .dataframe tbody tr th:only-of-type {\n",
              "        vertical-align: middle;\n",
              "    }\n",
              "\n",
              "    .dataframe tbody tr th {\n",
              "        vertical-align: top;\n",
              "    }\n",
              "\n",
              "    .dataframe thead th {\n",
              "        text-align: right;\n",
              "    }\n",
              "</style>\n",
              "<table border=\"1\" class=\"dataframe\">\n",
              "  <thead>\n",
              "    <tr style=\"text-align: right;\">\n",
              "      <th></th>\n",
              "      <th>ID</th>\n",
              "      <th>Gender</th>\n",
              "      <th>Age</th>\n",
              "      <th>Vintage</th>\n",
              "      <th>Credit_Product</th>\n",
              "      <th>Avg_Account_Balance</th>\n",
              "      <th>Is_Active</th>\n",
              "      <th>Is_Lead</th>\n",
              "      <th>Occupation_Other</th>\n",
              "      <th>Occupation_Salaried</th>\n",
              "      <th>Occupation_Self_Employed</th>\n",
              "    </tr>\n",
              "  </thead>\n",
              "  <tbody>\n",
              "    <tr>\n",
              "      <th>0</th>\n",
              "      <td>NNVBBKZB</td>\n",
              "      <td>0</td>\n",
              "      <td>64</td>\n",
              "      <td>43</td>\n",
              "      <td>0</td>\n",
              "      <td>1045696</td>\n",
              "      <td>0</td>\n",
              "      <td>0</td>\n",
              "      <td>1</td>\n",
              "      <td>0</td>\n",
              "      <td>0</td>\n",
              "    </tr>\n",
              "    <tr>\n",
              "      <th>1</th>\n",
              "      <td>IDD62UNG</td>\n",
              "      <td>0</td>\n",
              "      <td>30</td>\n",
              "      <td>32</td>\n",
              "      <td>0</td>\n",
              "      <td>581988</td>\n",
              "      <td>0</td>\n",
              "      <td>0</td>\n",
              "      <td>0</td>\n",
              "      <td>1</td>\n",
              "      <td>0</td>\n",
              "    </tr>\n",
              "    <tr>\n",
              "      <th>2</th>\n",
              "      <td>HD3DSEMC</td>\n",
              "      <td>0</td>\n",
              "      <td>56</td>\n",
              "      <td>26</td>\n",
              "      <td>0</td>\n",
              "      <td>1484315</td>\n",
              "      <td>1</td>\n",
              "      <td>0</td>\n",
              "      <td>0</td>\n",
              "      <td>0</td>\n",
              "      <td>1</td>\n",
              "    </tr>\n",
              "    <tr>\n",
              "      <th>3</th>\n",
              "      <td>BF3NC7KV</td>\n",
              "      <td>1</td>\n",
              "      <td>34</td>\n",
              "      <td>19</td>\n",
              "      <td>0</td>\n",
              "      <td>470454</td>\n",
              "      <td>0</td>\n",
              "      <td>0</td>\n",
              "      <td>0</td>\n",
              "      <td>1</td>\n",
              "      <td>0</td>\n",
              "    </tr>\n",
              "    <tr>\n",
              "      <th>4</th>\n",
              "      <td>TEASRWXV</td>\n",
              "      <td>0</td>\n",
              "      <td>30</td>\n",
              "      <td>33</td>\n",
              "      <td>0</td>\n",
              "      <td>886787</td>\n",
              "      <td>0</td>\n",
              "      <td>0</td>\n",
              "      <td>0</td>\n",
              "      <td>1</td>\n",
              "      <td>0</td>\n",
              "    </tr>\n",
              "  </tbody>\n",
              "</table>\n",
              "</div>"
            ],
            "text/plain": [
              "         ID  Gender  ...  Occupation_Salaried  Occupation_Self_Employed\n",
              "0  NNVBBKZB       0  ...                    0                         0\n",
              "1  IDD62UNG       0  ...                    1                         0\n",
              "2  HD3DSEMC       0  ...                    0                         1\n",
              "3  BF3NC7KV       1  ...                    1                         0\n",
              "4  TEASRWXV       0  ...                    1                         0\n",
              "\n",
              "[5 rows x 11 columns]"
            ]
          },
          "metadata": {
            "tags": []
          },
          "execution_count": 17
        }
      ]
    },
    {
      "cell_type": "code",
      "metadata": {
        "id": "fNJOrfPPdR3y"
      },
      "source": [
        "#Rearranging columns so that target variable comes at the end\n",
        "df_train = df_train.reindex(columns=['ID', 'Gender', 'Age', 'Vintage', 'Credit_Product', 'Avg_Account_Balance', 'Is_Active', 'Occupation_Other',\n",
        "                                     'Occupation_Salaried', 'Occupation_Self_Employed', 'Is_Lead'])\n"
      ],
      "id": "fNJOrfPPdR3y",
      "execution_count": null,
      "outputs": []
    },
    {
      "cell_type": "markdown",
      "metadata": {
        "id": "hkhFC5JHJbAn"
      },
      "source": [
        "### Using RFE for feature selection :\n",
        "I'm using Recursive Feature Elimination for selecting the best features. RFE is a wrapper method that uses the model to identify the best features.\n",
        "\n",
        "The function feature selection takes four parameters predictors, target, model and the number_of_features. The parameter number_of_features is used for explicitly stating the number of features you want to specify inside the RFE object. For the below code, I have inputted 5 feature."
      ],
      "id": "hkhFC5JHJbAn"
    },
    {
      "cell_type": "code",
      "metadata": {
        "id": "IY5WgMeptoDp"
      },
      "source": [
        "# Feature Scaling\n",
        "xc = MinMaxScaler()\n",
        "\n",
        "# Predictors\n",
        "x = df_train.iloc[:,1:-1]\n",
        "\n",
        "# Target\n",
        "y = df_train.iloc[:,-1]\n",
        "\n",
        "# Scaled Features\n",
        "x[['Avg_Account_Balance', 'Age', 'Vintage']] = xc.fit_transform(x[['Avg_Account_Balance', 'Age', 'Vintage']])"
      ],
      "id": "IY5WgMeptoDp",
      "execution_count": null,
      "outputs": []
    },
    {
      "cell_type": "code",
      "metadata": {
        "colab": {
          "base_uri": "https://localhost:8080/"
        },
        "id": "J29wnwHFem1O",
        "outputId": "b5220305-ae4a-42d3-f62d-9d765ecedb2c"
      },
      "source": [
        "# Function to select features using RFE\n",
        "def feature_selection(predictors, target, number_of_features, model):\n",
        "\n",
        "    models = model()\n",
        "    rfe = RFE(models,number_of_features)\n",
        "    rfe = rfe.fit(x,y)\n",
        "    feature_ranking = pd.Series(rfe.ranking_, index=x.columns)\n",
        "    print('Features  to be selected for {} are:'.format(str(i[0])))\n",
        "    print(feature_ranking[feature_ranking.values==1].index.tolist())\n",
        "    print('===='*30)\n",
        "\n",
        "# Choosing the models.\n",
        "models = {'Logistic Regression':LogisticRegression,'Random Forest':RandomForestClassifier}\n",
        "\n",
        "# Selecting 7 number of features\n",
        "for i in models.items():\n",
        "    feature_selection(x,y,7,i[1])"
      ],
      "id": "J29wnwHFem1O",
      "execution_count": null,
      "outputs": [
        {
          "output_type": "stream",
          "text": [
            "Features  to be selected for Logistic Regression are:\n",
            "['Age', 'Vintage', 'Credit_Product', 'Is_Active', 'Occupation_Other', 'Occupation_Salaried', 'Occupation_Self_Employed']\n",
            "========================================================================================================================\n",
            "Features  to be selected for Random Forest are:\n",
            "['Gender', 'Age', 'Vintage', 'Credit_Product', 'Avg_Account_Balance', 'Is_Active', 'Occupation_Salaried']\n",
            "========================================================================================================================\n"
          ],
          "name": "stdout"
        }
      ]
    },
    {
      "cell_type": "markdown",
      "metadata": {
        "id": "dRBYzt1jjB3z"
      },
      "source": [
        "Using this features I have build two classifiers."
      ],
      "id": "dRBYzt1jjB3z"
    },
    {
      "cell_type": "markdown",
      "metadata": {
        "id": "UHY87tTuoNzX"
      },
      "source": [
        "### Grid Search for Hyperparameter tuning :\n",
        "Below I'm performing hyperparameter tuning using GridSearch for both the classifier. After finding out best parameters, I am building classifier using that hyperparameter on best features obtained using \n",
        "RFE method.\n",
        "Since the target is imbalanced, I am applying Synthetic Minority Oversampling (SMOTE) for undersampling and oversampling the majority and minority classes in the target respectively."
      ],
      "id": "UHY87tTuoNzX"
    },
    {
      "cell_type": "code",
      "metadata": {
        "id": "gqwhWdN2wvkd"
      },
      "source": [
        "# Function for finding best fit parameters using grid search\n",
        "def grid_search(dataframe, target, model, param_grid):\n",
        "\n",
        "    x_train,x_val,y_train,y_val = train_test_split(dataframe, target, test_size=0.3, random_state=42)\n",
        "    classifier = model()\n",
        "\n",
        "    grid_search_model = GridSearchCV(classifier, param_grid=param_grid)\n",
        "    grid_search_model.fit(x_train, y_train)\n",
        "    print('Best Parameters for {} are:'.format(cls[0]))\n",
        "    return grid_search_model.best_params_\n"
      ],
      "id": "gqwhWdN2wvkd",
      "execution_count": null,
      "outputs": []
    },
    {
      "cell_type": "code",
      "metadata": {
        "colab": {
          "base_uri": "https://localhost:8080/"
        },
        "id": "DV81FWhZw46V",
        "outputId": "013260db-6526-4098-ea1f-57c5aa48caa8"
      },
      "source": [
        "# applying grid search on logistic and random forest classifier\n",
        "classifier_param = {'Random Forest' : [RandomForestClassifier,\n",
        "  {'n_estimators' : [100,150,200], 'max_features': ['auto', 'sqrt', 'log2'], 'max_depth' : [6,7,8,9,10,12], 'criterion' :['gini', 'entropy']}],\n",
        "  'Logistic Regression' : [LogisticRegression,\n",
        "  {'C' : np.logspace(-5, 8, 15), 'penalty' : ['l1', 'l2', 'elasticnet'], 'max_iter' : [40,60,80,100]}]}\n",
        "\n",
        "best_param = {}\n",
        "\n",
        "for cls in classifier_param.items():\n",
        "  best_param[cls[0]] = grid_search(x, y, cls[1][0], cls[1][1])\n",
        "  print(best_param[cls[0]])"
      ],
      "id": "DV81FWhZw46V",
      "execution_count": null,
      "outputs": [
        {
          "output_type": "stream",
          "text": [
            "Best Parameters for Random Forest are:\n",
            "{'criterion': 'gini', 'max_depth': 10, 'max_features': 'auto', 'n_estimators': 150}\n",
            "Best Parameters for Logistic Regression are:\n",
            "{'C': 0.4393970560760795, 'max_iter': 40, 'penalty': 'l2'}\n"
          ],
          "name": "stdout"
        }
      ]
    },
    {
      "cell_type": "markdown",
      "metadata": {
        "id": "f_8wTZBuse6a"
      },
      "source": [
        "### Random Forest Classifier :"
      ],
      "id": "f_8wTZBuse6a"
    },
    {
      "cell_type": "code",
      "metadata": {
        "colab": {
          "base_uri": "https://localhost:8080/",
          "height": 534
        },
        "id": "ktob-zdFjd25",
        "outputId": "14152489-f8fc-469c-b4d1-0941398c93db"
      },
      "source": [
        "# Function to build random forest classifier using parameters obtained by grid search\n",
        "def random_forrest_best(dataframe,target):\n",
        "    \n",
        "    \n",
        "    x_train, x_val, y_train, y_val = train_test_split(dataframe, target, test_size=0.3, random_state=42)\n",
        "    \n",
        "    # Applying Smote on train data for dealing with class imbalance\n",
        "    smote = SMOTE()\n",
        "    X_sm, y_sm =  smote.fit_sample(x_train, y_train)\n",
        "    \n",
        "    \n",
        "    rfc = RandomForestClassifier(n_estimators=150, max_features='auto', max_depth=10, criterion='gini',random_state=42)\n",
        "    rfc.fit(X_sm, y_sm)\n",
        "    y_pred = rfc.predict(x_val)\n",
        "\n",
        "    false_positive_rate, true_positive_rate, thresholds = roc_curve(y_val, y_pred)\n",
        "    print('On Validation data')\n",
        "    print('ROC_AUC_SCORE is',roc_auc_score(y_val, y_pred))\n",
        "    print(classification_report(y_val, y_pred))\n",
        "    print(confusion_matrix(y_val, y_pred))\n",
        "    #plt.clf()\n",
        "    plt.plot(false_positive_rate, true_positive_rate)\n",
        "    plt.xlabel('FPR')\n",
        "    plt.ylabel('TPR')\n",
        "    plt.title('ROC curve')\n",
        "    plt.show()\n",
        "    return rfc\n",
        "    \n",
        "# Features are selected from rfe method above\n",
        "rfc_model = random_forrest_best(x[['Gender', 'Age', 'Vintage', 'Credit_Product', 'Avg_Account_Balance', 'Is_Active', 'Occupation_Salaried']],y)"
      ],
      "id": "ktob-zdFjd25",
      "execution_count": null,
      "outputs": [
        {
          "output_type": "stream",
          "text": [
            "On Validation data\n",
            "ROC_AUC_SCORE is 0.8723850012871823\n",
            "              precision    recall  f1-score   support\n",
            "\n",
            "           0       0.94      0.83      0.88     43414\n",
            "           1       0.79      0.92      0.85     30304\n",
            "\n",
            "    accuracy                           0.86     73718\n",
            "   macro avg       0.86      0.87      0.86     73718\n",
            "weighted avg       0.87      0.86      0.87     73718\n",
            "\n",
            "[[35819  7595]\n",
            " [ 2433 27871]]\n"
          ],
          "name": "stdout"
        },
        {
          "output_type": "display_data",
          "data": {
            "image/png": "[encoded data removed]",
            "text/plain": [
              "<Figure size 432x288 with 1 Axes>"
            ]
          },
          "metadata": {
            "tags": [],
            "needs_background": "light"
          }
        }
      ]
    },
    {
      "cell_type": "markdown",
      "metadata": {
        "id": "sMYe8hg-qvjN"
      },
      "source": [
        "## Logistic Regression :"
      ],
      "id": "sMYe8hg-qvjN"
    },
    {
      "cell_type": "code",
      "metadata": {
        "id": "cZ1nDi2fq09A",
        "colab": {
          "base_uri": "https://localhost:8080/",
          "height": 534
        },
        "outputId": "7c2bfe33-8c53-4578-d113-ccd95893c4db"
      },
      "source": [
        "def log_reg_best(dataframe,target):\n",
        "    \n",
        "    \n",
        "    x_train, x_val, y_train, y_val = train_test_split(dataframe, target, test_size=0.3, random_state=42)\n",
        "    \n",
        "    # Applying Smote on train data for dealing with class imbalance\n",
        "    smote = SMOTE()\n",
        "    X_sm, y_sm =  smote.fit_sample(x_train, y_train)\n",
        "    \n",
        "    \n",
        "    log_reg = LogisticRegression(C = 0.4393970560760795, max_iter = 60, penalty = 'l2', random_state=42)\n",
        "    log_reg.fit(X_sm, y_sm)\n",
        "    y_pred = log_reg.predict(x_val)\n",
        "\n",
        "    false_positive_rate, true_positive_rate, thresholds = roc_curve(y_val, y_pred)\n",
        "    print('On Validation data')\n",
        "    print('ROC_AUC_SCORE is',roc_auc_score(y_val, y_pred))\n",
        "    print(classification_report(y_val, y_pred))\n",
        "    print(confusion_matrix(y_val, y_pred))\n",
        "    #plt.clf()\n",
        "    plt.plot(false_positive_rate, true_positive_rate)\n",
        "    plt.xlabel('FPR')\n",
        "    plt.ylabel('TPR')\n",
        "    plt.title('ROC curve')\n",
        "    plt.show()\n",
        "    return log_reg\n",
        "\n",
        "log_model = log_reg_best(x[['Age','Vintage','Credit_Product','Is_Active','Occupation_Other','Occupation_Salaried','Occupation_Self_Employed']],y)"
      ],
      "id": "cZ1nDi2fq09A",
      "execution_count": 68,
      "outputs": [
        {
          "output_type": "stream",
          "text": [
            "On Validation data\n",
            "ROC_AUC_SCORE is 0.6567881915123543\n",
            "              precision    recall  f1-score   support\n",
            "\n",
            "           0       0.86      0.65      0.74     56260\n",
            "           1       0.37      0.66      0.48     17458\n",
            "\n",
            "    accuracy                           0.66     73718\n",
            "   macro avg       0.62      0.66      0.61     73718\n",
            "weighted avg       0.75      0.66      0.68     73718\n",
            "\n",
            "[[36784 19476]\n",
            " [ 5940 11518]]\n"
          ],
          "name": "stdout"
        },
        {
          "output_type": "display_data",
          "data": {
            "image/png": "[encoded data removed]",
            "text/plain": [
              "<Figure size 432x288 with 1 Axes>"
            ]
          },
          "metadata": {
            "tags": [],
            "needs_background": "light"
          }
        }
      ]
    },
    {
      "cell_type": "markdown",
      "metadata": {
        "id": "xvlRkke8ByAC"
      },
      "source": [
        "Best classifier between this two is RandomForest Classifier, So I am using that on test data to predict target class."
      ],
      "id": "xvlRkke8ByAC"
    },
    {
      "cell_type": "markdown",
      "metadata": {
        "id": "kY7_N_VwCFHv"
      },
      "source": [
        "## Test Dataset Prediction :\n",
        "Before predicting, I am applying same data preprocessing techniques as I applied to training dataset."
      ],
      "id": "kY7_N_VwCFHv"
    },
    {
      "cell_type": "code",
      "metadata": {
        "id": "kvQDQebWCdjc"
      },
      "source": [
        "df_test = pd.read_csv(\"/content/drive/My Drive/Data/test_data.csv\")\n"
      ],
      "id": "kvQDQebWCdjc",
      "execution_count": 69,
      "outputs": []
    },
    {
      "cell_type": "code",
      "metadata": {
        "colab": {
          "base_uri": "https://localhost:8080/"
        },
        "id": "9sQVnHrUDWHq",
        "outputId": "d9e9744e-28c9-4f83-fa24-8a88e3679e0f"
      },
      "source": [
        "#Checking null values\n",
        "df_test.isnull().sum()"
      ],
      "id": "9sQVnHrUDWHq",
      "execution_count": 70,
      "outputs": [
        {
          "output_type": "execute_result",
          "data": {
            "text/plain": [
              "ID                         0\n",
              "Gender                     0\n",
              "Age                        0\n",
              "Region_Code                0\n",
              "Occupation                 0\n",
              "Channel_Code               0\n",
              "Vintage                    0\n",
              "Credit_Product         12522\n",
              "Avg_Account_Balance        0\n",
              "Is_Active                  0\n",
              "dtype: int64"
            ]
          },
          "metadata": {
            "tags": []
          },
          "execution_count": 70
        }
      ]
    },
    {
      "cell_type": "code",
      "metadata": {
        "id": "hvSgUl4WDmK-"
      },
      "source": [
        "#dropin rows with null values\n",
        "df_test.fillna('No', inplace = True)"
      ],
      "id": "hvSgUl4WDmK-",
      "execution_count": 71,
      "outputs": []
    },
    {
      "cell_type": "code",
      "metadata": {
        "colab": {
          "base_uri": "https://localhost:8080/",
          "height": 143
        },
        "id": "Oiy2AiLDEDm6",
        "outputId": "333dc104-3ff3-4a69-ec21-f69c44c89564"
      },
      "source": [
        "#Checking outliers\n",
        "def detect_outliers(dataframe):\n",
        "    cols = list(dataframe)\n",
        "    outliers = pd.DataFrame(columns = ['Feature', 'Number of Outliers'])\n",
        "    for column in cols:\n",
        "        if column in dataframe.select_dtypes(include=np.number).columns:\n",
        "            q1 = dataframe[column].quantile(0.25)\n",
        "            q3 = dataframe[column].quantile(0.75)\n",
        "            iqr = q3 - q1\n",
        "            fence_low = q1 - (1.5*iqr)\n",
        "            fence_high = q3 + (1.5*iqr)\n",
        "            outliers = outliers.append({'Feature':column, 'Number of Outliers':dataframe.loc[(dataframe[column] < fence_low) | (dataframe[column] > fence_high)].shape[0]},ignore_index=True)\n",
        "    return outliers\n",
        "\n",
        "detect_outliers(df_test)"
      ],
      "id": "Oiy2AiLDEDm6",
      "execution_count": 72,
      "outputs": [
        {
          "output_type": "execute_result",
          "data": {
            "text/html": [
              "<div>\n",
              "<style scoped>\n",
              "    .dataframe tbody tr th:only-of-type {\n",
              "        vertical-align: middle;\n",
              "    }\n",
              "\n",
              "    .dataframe tbody tr th {\n",
              "        vertical-align: top;\n",
              "    }\n",
              "\n",
              "    .dataframe thead th {\n",
              "        text-align: right;\n",
              "    }\n",
              "</style>\n",
              "<table border=\"1\" class=\"dataframe\">\n",
              "  <thead>\n",
              "    <tr style=\"text-align: right;\">\n",
              "      <th></th>\n",
              "      <th>Feature</th>\n",
              "      <th>Number of Outliers</th>\n",
              "    </tr>\n",
              "  </thead>\n",
              "  <tbody>\n",
              "    <tr>\n",
              "      <th>0</th>\n",
              "      <td>Age</td>\n",
              "      <td>0</td>\n",
              "    </tr>\n",
              "    <tr>\n",
              "      <th>1</th>\n",
              "      <td>Vintage</td>\n",
              "      <td>0</td>\n",
              "    </tr>\n",
              "    <tr>\n",
              "      <th>2</th>\n",
              "      <td>Avg_Account_Balance</td>\n",
              "      <td>6218</td>\n",
              "    </tr>\n",
              "  </tbody>\n",
              "</table>\n",
              "</div>"
            ],
            "text/plain": [
              "               Feature Number of Outliers\n",
              "0                  Age                  0\n",
              "1              Vintage                  0\n",
              "2  Avg_Account_Balance               6218"
            ]
          },
          "metadata": {
            "tags": []
          },
          "execution_count": 72
        }
      ]
    },
    {
      "cell_type": "code",
      "metadata": {
        "colab": {
          "base_uri": "https://localhost:8080/",
          "height": 143
        },
        "id": "GZafRaL0EiDZ",
        "outputId": "d90ffd2f-acdf-4592-e113-1b1e0ce9f33c"
      },
      "source": [
        "# treating outliers\n",
        "def treat_outliers(dataframe):\n",
        "    cols = list(dataframe)\n",
        "    for col in cols:\n",
        "        if col in dataframe.select_dtypes(include=np.number).columns:\n",
        "            dataframe[col] = winsorize(dataframe[col], limits=[0.05, 0.1],inclusive=(True, True))\n",
        "    \n",
        "    return dataframe    \n",
        "\n",
        "\n",
        "df_test = treat_outliers(df_test)\n",
        "\n",
        "# Checking for outliers after applying winsorization\n",
        "detect_outliers(df_test)"
      ],
      "id": "GZafRaL0EiDZ",
      "execution_count": 73,
      "outputs": [
        {
          "output_type": "execute_result",
          "data": {
            "text/html": [
              "<div>\n",
              "<style scoped>\n",
              "    .dataframe tbody tr th:only-of-type {\n",
              "        vertical-align: middle;\n",
              "    }\n",
              "\n",
              "    .dataframe tbody tr th {\n",
              "        vertical-align: top;\n",
              "    }\n",
              "\n",
              "    .dataframe thead th {\n",
              "        text-align: right;\n",
              "    }\n",
              "</style>\n",
              "<table border=\"1\" class=\"dataframe\">\n",
              "  <thead>\n",
              "    <tr style=\"text-align: right;\">\n",
              "      <th></th>\n",
              "      <th>Feature</th>\n",
              "      <th>Number of Outliers</th>\n",
              "    </tr>\n",
              "  </thead>\n",
              "  <tbody>\n",
              "    <tr>\n",
              "      <th>0</th>\n",
              "      <td>Age</td>\n",
              "      <td>0</td>\n",
              "    </tr>\n",
              "    <tr>\n",
              "      <th>1</th>\n",
              "      <td>Vintage</td>\n",
              "      <td>0</td>\n",
              "    </tr>\n",
              "    <tr>\n",
              "      <th>2</th>\n",
              "      <td>Avg_Account_Balance</td>\n",
              "      <td>0</td>\n",
              "    </tr>\n",
              "  </tbody>\n",
              "</table>\n",
              "</div>"
            ],
            "text/plain": [
              "               Feature Number of Outliers\n",
              "0                  Age                  0\n",
              "1              Vintage                  0\n",
              "2  Avg_Account_Balance                  0"
            ]
          },
          "metadata": {
            "tags": []
          },
          "execution_count": 73
        }
      ]
    },
    {
      "cell_type": "code",
      "metadata": {
        "id": "CRZr93OqE5qR"
      },
      "source": [
        "#dropping unrequired columns to avoid overfitting\n",
        "df_test.drop(['Region_Code', 'Channel_Code'], axis = 1, inplace = True)"
      ],
      "id": "CRZr93OqE5qR",
      "execution_count": 74,
      "outputs": []
    },
    {
      "cell_type": "code",
      "metadata": {
        "colab": {
          "base_uri": "https://localhost:8080/",
          "height": 206
        },
        "id": "5tV_PqbBFFyZ",
        "outputId": "f74c9430-45df-4714-df37-36d54efe0844"
      },
      "source": [
        "#Label Encoding\n",
        "label_col = ['Gender', 'Credit_Product', 'Is_Active']\n",
        "for col in label_col:\n",
        "  le = LabelEncoder()\n",
        "  df_test[col] = le.fit_transform(df_test[col])\n",
        "\n",
        "# create four dummy variables using get_dummies, then exclude the first dummy column\n",
        "dummies = pd.get_dummies(df_test['Occupation'], prefix='Occupation').iloc[:, 1:]\n",
        "\n",
        "# concatenate the dummy variable columns onto the original DataFrame (axis=0 means rows, axis=1 means columns)\n",
        "df_test = pd.concat([df_test, dummies], axis=1)\n",
        "df_test.drop(['Occupation'], axis = 1, inplace = True)\n",
        "\n",
        "df_test.head()"
      ],
      "id": "5tV_PqbBFFyZ",
      "execution_count": 75,
      "outputs": [
        {
          "output_type": "execute_result",
          "data": {
            "text/html": [
              "<div>\n",
              "<style scoped>\n",
              "    .dataframe tbody tr th:only-of-type {\n",
              "        vertical-align: middle;\n",
              "    }\n",
              "\n",
              "    .dataframe tbody tr th {\n",
              "        vertical-align: top;\n",
              "    }\n",
              "\n",
              "    .dataframe thead th {\n",
              "        text-align: right;\n",
              "    }\n",
              "</style>\n",
              "<table border=\"1\" class=\"dataframe\">\n",
              "  <thead>\n",
              "    <tr style=\"text-align: right;\">\n",
              "      <th></th>\n",
              "      <th>ID</th>\n",
              "      <th>Gender</th>\n",
              "      <th>Age</th>\n",
              "      <th>Vintage</th>\n",
              "      <th>Credit_Product</th>\n",
              "      <th>Avg_Account_Balance</th>\n",
              "      <th>Is_Active</th>\n",
              "      <th>Occupation_Other</th>\n",
              "      <th>Occupation_Salaried</th>\n",
              "      <th>Occupation_Self_Employed</th>\n",
              "    </tr>\n",
              "  </thead>\n",
              "  <tbody>\n",
              "    <tr>\n",
              "      <th>0</th>\n",
              "      <td>VBENBARO</td>\n",
              "      <td>1</td>\n",
              "      <td>29</td>\n",
              "      <td>25</td>\n",
              "      <td>1</td>\n",
              "      <td>742366</td>\n",
              "      <td>0</td>\n",
              "      <td>1</td>\n",
              "      <td>0</td>\n",
              "      <td>0</td>\n",
              "    </tr>\n",
              "    <tr>\n",
              "      <th>1</th>\n",
              "      <td>CCMEWNKY</td>\n",
              "      <td>1</td>\n",
              "      <td>43</td>\n",
              "      <td>49</td>\n",
              "      <td>0</td>\n",
              "      <td>925537</td>\n",
              "      <td>0</td>\n",
              "      <td>1</td>\n",
              "      <td>0</td>\n",
              "      <td>0</td>\n",
              "    </tr>\n",
              "    <tr>\n",
              "      <th>2</th>\n",
              "      <td>VK3KGA9M</td>\n",
              "      <td>1</td>\n",
              "      <td>31</td>\n",
              "      <td>14</td>\n",
              "      <td>0</td>\n",
              "      <td>356062</td>\n",
              "      <td>0</td>\n",
              "      <td>0</td>\n",
              "      <td>1</td>\n",
              "      <td>0</td>\n",
              "    </tr>\n",
              "    <tr>\n",
              "      <th>3</th>\n",
              "      <td>TT8RPZVC</td>\n",
              "      <td>1</td>\n",
              "      <td>29</td>\n",
              "      <td>33</td>\n",
              "      <td>0</td>\n",
              "      <td>868070</td>\n",
              "      <td>0</td>\n",
              "      <td>1</td>\n",
              "      <td>0</td>\n",
              "      <td>0</td>\n",
              "    </tr>\n",
              "    <tr>\n",
              "      <th>4</th>\n",
              "      <td>SHQZEYTZ</td>\n",
              "      <td>0</td>\n",
              "      <td>29</td>\n",
              "      <td>19</td>\n",
              "      <td>0</td>\n",
              "      <td>657087</td>\n",
              "      <td>0</td>\n",
              "      <td>1</td>\n",
              "      <td>0</td>\n",
              "      <td>0</td>\n",
              "    </tr>\n",
              "  </tbody>\n",
              "</table>\n",
              "</div>"
            ],
            "text/plain": [
              "         ID  Gender  ...  Occupation_Salaried  Occupation_Self_Employed\n",
              "0  VBENBARO       1  ...                    0                         0\n",
              "1  CCMEWNKY       1  ...                    0                         0\n",
              "2  VK3KGA9M       1  ...                    1                         0\n",
              "3  TT8RPZVC       1  ...                    0                         0\n",
              "4  SHQZEYTZ       0  ...                    0                         0\n",
              "\n",
              "[5 rows x 10 columns]"
            ]
          },
          "metadata": {
            "tags": []
          },
          "execution_count": 75
        }
      ]
    },
    {
      "cell_type": "code",
      "metadata": {
        "id": "7Qsk_pQAF36w"
      },
      "source": [
        "# Predictors\n",
        "x = df_test[['Gender', 'Age', 'Vintage', 'Credit_Product', 'Avg_Account_Balance', 'Is_Active', 'Occupation_Salaried']]\n",
        "id = df_test[['ID']]\n",
        "# Feature Scaling\n",
        "xct = MinMaxScaler()\n",
        "\n",
        "x = xct.fit_transform(x)\n",
        "\n",
        "y_pred_test = rfc_model.predict(x)\n"
      ],
      "id": "7Qsk_pQAF36w",
      "execution_count": 76,
      "outputs": []
    },
    {
      "cell_type": "code",
      "metadata": {
        "id": "tdW_vLxlJHa6"
      },
      "source": [
        "predictions = pd.DataFrame(y_pred_test, columns = ['Is_Lead'])\n",
        "\n",
        "submission = pd.concat([id, predictions['Is_Lead']], axis = 1)\n",
        "\n",
        "submission.to_csv('submission.csv',index=False)"
      ],
      "id": "tdW_vLxlJHa6",
      "execution_count": 77,
      "outputs": []
    },
    {
      "cell_type": "code",
      "metadata": {
        "colab": {
          "base_uri": "https://localhost:8080/",
          "height": 17
        },
        "id": "BjeHWVK8LomE",
        "outputId": "dcb0aee1-39e2-471d-a89b-aea257265395"
      },
      "source": [
        "from google.colab import files\n",
        "files.download('submission.csv')"
      ],
      "id": "BjeHWVK8LomE",
      "execution_count": 78,
      "outputs": [
        {
          "output_type": "display_data",
          "data": {
            "application/javascript": [
              "\n",
              "    async function download(id, filename, size) {\n",
              "      if (!google.colab.kernel.accessAllowed) {\n",
              "        return;\n",
              "      }\n",
              "      const div = document.createElement('div');\n",
              "      const label = document.createElement('label');\n",
              "      label.textContent = `Downloading \"${filename}\": `;\n",
              "      div.appendChild(label);\n",
              "      const progress = document.createElement('progress');\n",
              "      progress.max = size;\n",
              "      div.appendChild(progress);\n",
              "      document.body.appendChild(div);\n",
              "\n",
              "      const buffers = [];\n",
              "      let downloaded = 0;\n",
              "\n",
              "      const channel = await google.colab.kernel.comms.open(id);\n",
              "      // Send a message to notify the kernel that we're ready.\n",
              "      channel.send({})\n",
              "\n",
              "      for await (const message of channel.messages) {\n",
              "        // Send a message to notify the kernel that we're ready.\n",
              "        channel.send({})\n",
              "        if (message.buffers) {\n",
              "          for (const buffer of message.buffers) {\n",
              "            buffers.push(buffer);\n",
              "            downloaded += buffer.byteLength;\n",
              "            progress.value = downloaded;\n",
              "          }\n",
              "        }\n",
              "      }\n",
              "      const blob = new Blob(buffers, {type: 'application/binary'});\n",
              "      const a = document.createElement('a');\n",
              "      a.href = window.URL.createObjectURL(blob);\n",
              "      a.download = filename;\n",
              "      div.appendChild(a);\n",
              "      a.click();\n",
              "      div.remove();\n",
              "    }\n",
              "  "
            ],
            "text/plain": [
              "<IPython.core.display.Javascript object>"
            ]
          },
          "metadata": {
            "tags": []
          }
        },
        {
          "output_type": "display_data",
          "data": {
            "application/javascript": [
              "download(\"download_302b4d1c-b5e8-4de9-ac13-973317a8f21d\", \"submission.csv\", 1158443)"
            ],
            "text/plain": [
              "<IPython.core.display.Javascript object>"
            ]
          },
          "metadata": {
            "tags": []
          }
        }
      ]
    }
  ]
}